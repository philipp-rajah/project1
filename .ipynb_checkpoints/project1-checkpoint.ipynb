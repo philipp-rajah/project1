{
 "cells": [
  {
   "cell_type": "code",
   "execution_count": 18,
   "metadata": {},
   "outputs": [],
   "source": [
    "import pandas as pd\n",
    "NOAA = pd.read_csv(\"PrecipData.csv\", skiprows= 5)\n",
    "RC = pd.read_table('RaccoonCreekFlowData.txt', skiprows=31, na_filter=False)\n",
    "\n",
    "# print(NOAA)\n",
    "\n",
    "# print(RC)"
   ]
  },
  {
   "cell_type": "code",
   "execution_count": 19,
   "metadata": {},
   "outputs": [
    {
     "name": "stdout",
     "output_type": "stream",
     "text": [
      "        Date  Precip (in)\n",
      "0     8/1/17         0.00\n",
      "1     8/2/17         0.00\n",
      "2     8/3/17         0.06\n",
      "3     8/4/17         0.04\n",
      "4     8/5/17         0.01\n",
      "5     8/6/17         0.00\n",
      "6     8/7/17         0.07\n",
      "7     8/8/17         0.18\n",
      "8     8/9/17         0.00\n",
      "9    8/10/17         0.00\n",
      "10   8/11/17         0.09\n",
      "11   8/12/17         0.20\n",
      "12   8/13/17         0.00\n",
      "13   8/14/17         0.00\n",
      "14   8/15/17         0.00\n",
      "15   8/16/17         0.01\n",
      "16   8/17/17         0.00\n",
      "17   8/18/17         0.45\n",
      "18   8/19/17         0.01\n",
      "19   8/20/17          NaN\n",
      "20   8/21/17          NaN\n",
      "21   8/22/17         0.00\n",
      "22   8/23/17         0.35\n",
      "23   8/24/17         0.00\n",
      "24   8/25/17         0.00\n",
      "25   8/26/17         0.00\n",
      "26   8/27/17         0.00\n",
      "27   8/28/17         0.00\n",
      "28   8/29/17         0.01\n",
      "29   8/30/17         0.02\n",
      "..       ...          ...\n",
      "336   7/3/18         0.05\n",
      "337   7/4/18         0.34\n",
      "338   7/5/18         0.04\n",
      "339   7/6/18         0.00\n",
      "340   7/7/18         0.00\n",
      "341   7/8/18         0.00\n",
      "342   7/9/18         0.00\n",
      "343  7/10/18         0.00\n",
      "344  7/11/18         0.01\n",
      "345  7/12/18         0.00\n",
      "346  7/13/18         0.00\n",
      "347  7/14/18         0.00\n",
      "348  7/15/18         0.00\n",
      "349  7/16/18         0.00\n",
      "350  7/17/18         1.25\n",
      "351  7/18/18         0.00\n",
      "352  7/19/18         0.00\n",
      "353  7/20/18         0.00\n",
      "354  7/21/18         0.71\n",
      "355  7/22/18         0.15\n",
      "356  7/23/18         0.01\n",
      "357  7/24/18         2.34\n",
      "358  7/25/18         0.01\n",
      "359  7/26/18         0.00\n",
      "360  7/27/18         0.31\n",
      "361  7/28/18         0.00\n",
      "362  7/29/18         0.00\n",
      "363  7/30/18         0.07\n",
      "364  7/31/18          NaN\n",
      "365      NaN          NaN\n",
      "\n",
      "[366 rows x 2 columns]\n"
     ]
    }
   ],
   "source": [
    "NOAA = NOAA[[\"Date\", \"Precip (in)\"]]\n",
    "print(NOAA)\n",
    "\n",
    "# print(RC.columns)\n",
    "\n",
    "RC = RC.rename(index = str, columns= {\"datetime\":'dT', \"110246_00065\" : \"gH(ft)\", \"110247_00060\": \\\n",
    "                                      \"dC(ft/sec)\",  '110248_00045':\"pRcP(in/15m)\", \\\n",
    "                                     \"110246_00065_cd\": 'gQ', '110247_00060_cd': 'dCQ', \\\n",
    "                                     '110248_00045_cd': 'pRcPQ'})\n",
    "RC = RC.iloc[:, [2, 4,5, 6, 7, 8, 9]]\n",
    "\n",
    "# print(RC)"
   ]
  },
  {
   "cell_type": "code",
   "execution_count": 20,
   "metadata": {},
   "outputs": [],
   "source": [
    "\n",
    "def convertDate(date):\n",
    "    return str(int(date[5:7])) + '/' + str(int(date[8:10])) + '/' + date[2:4]\n",
    "\n",
    "\n",
    "RC['dT'] = RC['dT'].apply(lambda x: convertDate(x))\n",
    "\n",
    "\n",
    "\n"
   ]
  },
  {
   "cell_type": "code",
   "execution_count": 4,
   "metadata": {},
   "outputs": [
    {
     "name": "stdout",
     "output_type": "stream",
     "text": [
      "           dT gH(ft) gQ dC(ft/sec) dCQ pRcP(in/15m) pRcPQ\n",
      "0      8/1/17                 16.4   A                   \n",
      "1      8/1/17                 16.4   A                   \n",
      "2      8/1/17                 16.4   A                   \n",
      "3      8/1/17                 16.4   A                   \n",
      "4      8/1/17                 16.4   A                   \n",
      "5      8/1/17                 16.4   A                   \n",
      "6      8/1/17                 16.4   A                   \n",
      "7      8/1/17                 16.4   A                   \n",
      "8      8/1/17                 16.4   A                   \n",
      "9      8/1/17                 16.4   A                   \n",
      "10     8/1/17                 16.4   A                   \n",
      "11     8/1/17                 16.4   A                   \n",
      "12     8/1/17                 16.4   A                   \n",
      "13     8/1/17                 16.4   A                   \n",
      "14     8/1/17                 16.4   A                   \n",
      "15     8/1/17                 16.4   A                   \n",
      "16     8/1/17                 16.4   A                   \n",
      "17     8/1/17                 16.4   A                   \n",
      "18     8/1/17                 16.4   A                   \n",
      "19     8/1/17                 16.4   A                   \n",
      "20     8/1/17                 16.4   A                   \n",
      "21     8/1/17                 16.4   A                   \n",
      "22     8/1/17                 16.4   A                   \n",
      "23     8/1/17                 16.4   A                   \n",
      "24     8/1/17                 16.4   A                   \n",
      "25     8/1/17                 16.4   A                   \n",
      "26     8/1/17                 16.4   A                   \n",
      "27     8/1/17                 16.4   A                   \n",
      "28     8/1/17                 16.4   A                   \n",
      "29     8/1/17                 16.4   A                   \n",
      "...       ...    ... ..        ...  ..          ...   ...\n",
      "34719  8/1/18   3.33  P       19.7   P          Eqp     P\n",
      "34720  8/1/18   3.33  P       19.7   P          Eqp     P\n",
      "34721  8/1/18   3.33  P       19.7   P          Eqp     P\n",
      "34722  8/1/18   3.33  P       19.7   P          Eqp     P\n",
      "34723  8/1/18   3.33  P       19.7   P          Eqp     P\n",
      "34724  8/1/18   3.33  P       19.7   P          Eqp     P\n",
      "34725  8/1/18   3.33  P       19.7   P          Eqp     P\n",
      "34726  8/1/18   3.32  P       19.0   P          Eqp     P\n",
      "34727  8/1/18   3.32  P       19.0   P          Eqp     P\n",
      "34728  8/1/18   3.32  P       19.0   P          Eqp     P\n",
      "34729  8/1/18   3.32  P       19.0   P          Eqp     P\n",
      "34730  8/1/18   3.32  P       19.0   P          Eqp     P\n",
      "34731  8/1/18   3.32  P       19.0   P          Eqp     P\n",
      "34732  8/1/18   3.32  P       19.0   P          Eqp     P\n",
      "34733  8/1/18   3.32  P       19.0   P          Eqp     P\n",
      "34734  8/1/18   3.32  P       19.0   P          Eqp     P\n",
      "34735  8/1/18   3.32  P       19.0   P          Eqp     P\n",
      "34736  8/1/18   3.32  P       19.0   P          Eqp     P\n",
      "34737  8/1/18   3.31  P       18.3   P          Eqp     P\n",
      "34738  8/1/18   3.31  P       18.3   P          Eqp     P\n",
      "34739  8/1/18   3.31  P       18.3   P          Eqp     P\n",
      "34740  8/1/18   3.31  P       18.3   P          Eqp     P\n",
      "34741  8/1/18   3.31  P       18.3   P          Eqp     P\n",
      "34742  8/1/18   3.31  P       18.3   P          Eqp     P\n",
      "34743  8/1/18   3.31  P       18.3   P          Eqp     P\n",
      "34744  8/1/18   3.31  P       18.3   P          Eqp     P\n",
      "34745  8/1/18   3.31  P       18.3   P          Eqp     P\n",
      "34746  8/1/18   3.31  P       18.3   P          Eqp     P\n",
      "34747  8/1/18   3.31  P       18.3   P          Eqp     P\n",
      "34748  8/1/18   3.30  P       17.7   P          Eqp     P\n",
      "\n",
      "[34749 rows x 7 columns]\n"
     ]
    }
   ],
   "source": [
    "print(RC)"
   ]
  },
  {
   "cell_type": "code",
   "execution_count": 21,
   "metadata": {},
   "outputs": [
    {
     "name": "stdout",
     "output_type": "stream",
     "text": [
      "          dT  dC(ft/sec)\n",
      "0     1/1/18   26.896875\n",
      "1    1/10/18   24.626041\n",
      "2    1/11/18  185.414581\n",
      "3    1/12/18  895.041687\n",
      "4    1/13/18  416.375000\n",
      "5    1/14/18  171.187500\n",
      "6    1/15/18  131.958328\n",
      "7    1/16/18  101.223808\n",
      "8    1/17/18   70.133331\n",
      "9    1/18/18   63.883331\n",
      "10   1/19/18   58.548077\n",
      "11    1/2/18   24.590626\n",
      "12   1/20/18   55.012501\n",
      "13   1/21/18  157.928131\n",
      "14   1/22/18  695.989563\n",
      "15   1/23/18  615.989563\n",
      "16   1/24/18  230.572922\n",
      "17   1/25/18  140.406250\n",
      "18   1/26/18  110.656250\n",
      "19   1/27/18  203.616669\n",
      "20   1/28/18  400.770844\n",
      "21   1/29/18  168.218750\n",
      "22    1/3/18   22.806250\n",
      "23   1/30/18  115.858330\n",
      "24   1/31/18   92.182289\n",
      "25    1/4/18   24.923958\n",
      "26    1/5/18   23.076042\n",
      "27    1/6/18   20.472918\n",
      "28    1/7/18   18.850000\n",
      "29    1/8/18   20.863543\n",
      "..       ...         ...\n",
      "336   9/1/17   10.125000\n",
      "337  9/10/17    7.550625\n",
      "338  9/11/17    7.134271\n",
      "339  9/12/17    5.882812\n",
      "340  9/13/17    5.985625\n",
      "341  9/14/17    8.918855\n",
      "342  9/15/17    8.288333\n",
      "343  9/16/17    8.726875\n",
      "344  9/17/17    8.166875\n",
      "345  9/18/17    7.408229\n",
      "346  9/19/17    5.731250\n",
      "347   9/2/17   12.088542\n",
      "348  9/20/17    5.561666\n",
      "349  9/21/17    6.690769\n",
      "350  9/22/17    5.138958\n",
      "351  9/23/17    6.277292\n",
      "352  9/24/17    6.739479\n",
      "353  9/25/17    6.310937\n",
      "354  9/26/17    4.627396\n",
      "355  9/27/17    4.013229\n",
      "356  9/28/17    4.511875\n",
      "357  9/29/17    5.765833\n",
      "358   9/3/17   13.604167\n",
      "359  9/30/17    4.403542\n",
      "360   9/4/17   11.895833\n",
      "361   9/5/17   25.311459\n",
      "362   9/6/17   14.835417\n",
      "363   9/7/17   10.469687\n",
      "364   9/8/17    8.888958\n",
      "365   9/9/17    8.088854\n",
      "\n",
      "[366 rows x 2 columns]\n"
     ]
    }
   ],
   "source": [
    "import matplotlib.pyplot as plt\n",
    "\n",
    "RC['dC(ft/sec)'] = pd.to_numeric(RC['dC(ft/sec)'], downcast='float')\n",
    "\n",
    "dateScores = RC.groupby(by = 'dT' ).agg('mean')\n",
    "\n",
    "dateScores = dateScores.reset_index()\n",
    "print(dateScores)"
   ]
  },
  {
   "cell_type": "code",
   "execution_count": null,
   "metadata": {},
   "outputs": [],
   "source": []
  },
  {
   "cell_type": "code",
   "execution_count": 10,
   "metadata": {},
   "outputs": [],
   "source": [
    "plt.show()"
   ]
  },
  {
   "cell_type": "code",
   "execution_count": null,
   "metadata": {},
   "outputs": [],
   "source": [
    "# plt.figure(figsize=(20,10))\n",
    "# x = list(dateScores['dT'])\n",
    "# y = list(dateScores['dC(ft/sec)'])\n",
    "# plt.plot(x, y)\n",
    "# axis = plt.xticks(dateScores['dT'], dateScores['dT'], rotation=60)"
   ]
  },
  {
   "cell_type": "code",
   "execution_count": 26,
   "metadata": {},
   "outputs": [
    {
     "name": "stdout",
     "output_type": "stream",
     "text": [
      "          dT  dC(ft/sec)\n",
      "0     1/1/18   26.896875\n",
      "1    1/10/18   24.626041\n",
      "2    1/11/18  185.414581\n",
      "3    1/12/18  895.041687\n",
      "4    1/13/18  416.375000\n",
      "5    1/14/18  171.187500\n",
      "6    1/15/18  131.958328\n",
      "7    1/16/18  101.223808\n",
      "8    1/17/18   70.133331\n",
      "9    1/18/18   63.883331\n",
      "10   1/19/18   58.548077\n",
      "11    1/2/18   24.590626\n",
      "12   1/20/18   55.012501\n",
      "13   1/21/18  157.928131\n",
      "14   1/22/18  695.989563\n",
      "15   1/23/18  615.989563\n",
      "16   1/24/18  230.572922\n",
      "17   1/25/18  140.406250\n",
      "18   1/26/18  110.656250\n",
      "19   1/27/18  203.616669\n",
      "20   1/28/18  400.770844\n",
      "21   1/29/18  168.218750\n",
      "22    1/3/18   22.806250\n",
      "23   1/30/18  115.858330\n",
      "24   1/31/18   92.182289\n",
      "25    1/4/18   24.923958\n",
      "26    1/5/18   23.076042\n",
      "27    1/6/18   20.472918\n",
      "28    1/7/18   18.850000\n",
      "29    1/8/18   20.863543\n",
      "..       ...         ...\n",
      "275  7/11/18   14.681251\n",
      "276  7/12/18   13.994792\n",
      "277  7/13/18   13.682292\n",
      "278  7/14/18   13.833333\n",
      "279  7/15/18   14.950000\n",
      "280  7/16/18  185.555206\n",
      "281  7/17/18  215.868744\n",
      "282  7/18/18   41.436459\n",
      "283  7/19/18   26.402082\n",
      "284   7/2/18   24.944792\n",
      "285  7/20/18   19.255209\n",
      "286  7/21/18   18.919792\n",
      "287  7/22/18   20.538542\n",
      "288  7/23/18   31.894793\n",
      "289  7/24/18   30.325001\n",
      "290  7/25/18   19.031250\n",
      "291  7/26/18   15.912499\n",
      "292  7/27/18   17.747917\n",
      "293  7/28/18   13.755208\n",
      "294  7/29/18   12.243750\n",
      "295   7/3/18   23.908333\n",
      "296  7/30/18   12.228125\n",
      "297  7/31/18   19.013542\n",
      "298   7/4/18   22.529167\n",
      "299   7/5/18   33.344791\n",
      "300   7/6/18   25.959375\n",
      "301   7/7/18   21.223957\n",
      "302   7/8/18   19.218750\n",
      "303   7/9/18   17.595833\n",
      "305   8/1/18   21.843750\n",
      "\n",
      "[213 rows x 2 columns]\n"
     ]
    }
   ],
   "source": [
    "dataScores18 = dateScores\n",
    "for idx, row in dataScores18.iterrows():\n",
    "    if dataScores18.loc[idx, 'dT'][-2:] == '17':\n",
    "        dataScores18 = dataScores18.drop([idx])\n",
    "print(dataScores18)"
   ]
  },
  {
   "cell_type": "code",
   "execution_count": 29,
   "metadata": {},
   "outputs": [
    {
     "name": "stdout",
     "output_type": "stream",
     "text": [
      "           dT  dC(ft/sec)\n",
      "31    10/1/17    5.843438\n",
      "32   10/10/17   30.913542\n",
      "33   10/11/17   16.346874\n",
      "34   10/12/17   17.383333\n",
      "35   10/13/17   13.604167\n",
      "36   10/14/17   11.077083\n",
      "37   10/15/17   10.071771\n",
      "38   10/16/17    8.779167\n",
      "39   10/17/17    8.413542\n",
      "40   10/18/17    6.873958\n",
      "41   10/19/17    8.135000\n",
      "42    10/2/17    6.236667\n",
      "43   10/20/17    7.809583\n",
      "44   10/21/17    7.620000\n",
      "45   10/22/17    7.386666\n",
      "46   10/23/17    7.633958\n",
      "47   10/24/17    9.274583\n",
      "48   10/25/17   13.566667\n",
      "49   10/26/17   12.714583\n",
      "50   10/27/17   11.108333\n",
      "51   10/28/17   11.181250\n",
      "52   10/29/17   13.072916\n",
      "53    10/3/17    4.726875\n",
      "54   10/30/17   12.498958\n",
      "55   10/31/17   10.274375\n",
      "56    10/4/17    5.838958\n",
      "57    10/5/17    6.093646\n",
      "58    10/6/17    8.091562\n",
      "59    10/7/17    9.151459\n",
      "60    10/8/17    9.697291\n",
      "..        ...         ...\n",
      "336    9/1/17   10.125000\n",
      "337   9/10/17    7.550625\n",
      "338   9/11/17    7.134271\n",
      "339   9/12/17    5.882812\n",
      "340   9/13/17    5.985625\n",
      "341   9/14/17    8.918855\n",
      "342   9/15/17    8.288333\n",
      "343   9/16/17    8.726875\n",
      "344   9/17/17    8.166875\n",
      "345   9/18/17    7.408229\n",
      "346   9/19/17    5.731250\n",
      "347    9/2/17   12.088542\n",
      "348   9/20/17    5.561666\n",
      "349   9/21/17    6.690769\n",
      "350   9/22/17    5.138958\n",
      "351   9/23/17    6.277292\n",
      "352   9/24/17    6.739479\n",
      "353   9/25/17    6.310937\n",
      "354   9/26/17    4.627396\n",
      "355   9/27/17    4.013229\n",
      "356   9/28/17    4.511875\n",
      "357   9/29/17    5.765833\n",
      "358    9/3/17   13.604167\n",
      "359   9/30/17    4.403542\n",
      "360    9/4/17   11.895833\n",
      "361    9/5/17   25.311459\n",
      "362    9/6/17   14.835417\n",
      "363    9/7/17   10.469687\n",
      "364    9/8/17    8.888958\n",
      "365    9/9/17    8.088854\n",
      "\n",
      "[153 rows x 2 columns]\n"
     ]
    }
   ],
   "source": [
    "dataScores17 = dateScores\n",
    "for idx, row in dataScores17.iterrows():\n",
    "    if dataScores17.loc[idx, 'dT'][-2:] == '18':\n",
    "        dataScores17 = dataScores17.drop([idx])\n",
    "print(dataScores17)"
   ]
  },
  {
   "cell_type": "code",
   "execution_count": null,
   "metadata": {},
   "outputs": [],
   "source": [
    "time = list(NOAA1['Date'])\n",
    "\n",
    "gH_date = RC[['dT', 'gH(ft)']]\n",
    "# print(gH_date)\n",
    "\n",
    "em = []\n",
    "for idx, row in gH_date.iterrows():\n",
    "    if gH_date.loc[idx, 'gH(ft)'] != '':\n",
    "        em.append(idx)\n",
    "\n",
    "# print(em)\n",
    "gH_day = gH_date.loc['27075': , :]\n",
    "# print(gH_day)\n",
    "\n",
    "# for idx, row in gH_day.iterrows():\n",
    "#     if gH_day.loc['dT', ]"
   ]
  },
  {
   "cell_type": "code",
   "execution_count": null,
   "metadata": {},
   "outputs": [],
   "source": [
    "em_dic = {}\n",
    "for idx, row in gH_day.iterrows():\n",
    "    day = gH_day.loc[idx, 'dT'][8:10]\n",
    "    month = gH_day.loc[idx, 'dT'][5:7]\n",
    "    year = gH_day.loc[idx, 'dT'][2:4]\n",
    "    day = str(int(day))\n",
    "    month = str(int(month))\n",
    "    date = month + '/' + day + '/' + year\n",
    "#     date = convertDate(RC.loc[idx, 'dT'])\n",
    "#     RC.loc[idx, 'dT'] = date\n",
    "    if gH_day.loc[idx, 'gH(ft)'] != '':\n",
    "        if date not in em_dic:\n",
    "            em_dic[date] = [float(gH_day.loc[idx, 'gH(ft)'])]\n",
    "        else:\n",
    "            em_dic[date].append(float(gH_day.loc[idx, 'gH(ft)']))\n",
    "gH_dic_mean = {}\n",
    "for key in em_dic:\n",
    "    gH_dic_mean[key] = round(sum(em_dic[key])/len(em_dic[key]), 2)\n",
    "\n",
    "gH_avg_values = list(gH_dic_mean.values())\n",
    "gH_date_keys = list(gH_dic_mean.keys())\n",
    "\n",
    "gH_avg_values_series = pd.Series(gH_avg_values)\n",
    "gH_date_keys_series = pd.Series(gH_date_keys)\n",
    "\n",
    "# print(gH_date_keys_series)\n",
    "# print(gH_avg_values_series)\n",
    "\n"
   ]
  },
  {
   "cell_type": "code",
   "execution_count": null,
   "metadata": {},
   "outputs": [],
   "source": [
    "gH_cleaned = pd.concat([gH_date_keys_series, gH_avg_values_series], axis = 1)\n",
    "gH_cleaned = gH_cleaned.rename(index = str, columns = {0: 'Date', 1: 'mgH'})\n",
    "print(gH_cleaned)"
   ]
  },
  {
   "cell_type": "code",
   "execution_count": null,
   "metadata": {},
   "outputs": [],
   "source": [
    "#*******************************NEXT STEPS********************************************\n",
    "\n",
    "\n",
    "#*********STEP 1***************\n",
    "#LINEPLOTS:\n",
    "#date (avg season) and precip  --------> DONE :) (4)\n",
    "#date (avg Season) and dCG ---------> DONE :) (4)\n",
    "#date (avg season - Summer/Spring) and gH -----> DONE :) (2)\n",
    "\n",
    "\n",
    "#SCATTERPLOTS:\n",
    "#precip and avgDC ------> DONE :) (1)\n",
    "#precip and mgH ---------> DONE :) (1)\n",
    "\n",
    "\n",
    "\n",
    "#*****STEP 2******************\n",
    "#@ end make a tidydataset \n",
    "\n",
    "\n",
    "\n",
    "\n",
    "#*****STEP 3*****************\n",
    "#write up data story\n",
    "\n",
    "\n",
    "\n",
    "\n",
    "#******STEP 4****************\n",
    "#visit writing center\n",
    "\n",
    "\n",
    "\n",
    "\n",
    "#******STEP 5************\n",
    "#re-adjust edits from writing center, check, and submit by Tuesday, Oct 2nd "
   ]
  },
  {
   "cell_type": "code",
   "execution_count": null,
   "metadata": {},
   "outputs": [],
   "source": [
    "#making graph of date and GH\n",
    "import matplotlib.pyplot as plt\n",
    "\n",
    "precip_list = list(NOAA1['Precip (in)'])\n",
    "avg_dC_list = list(NOAA1['avg dC(ft/sec)'])\n",
    "\n",
    "plt.figure(figsize=(20,10))\n",
    "gh_DATE = list(gH_cleaned['Date'])\n",
    "gh_mGh = list(gH_cleaned['mgH'])\n",
    "\n",
    "\n",
    "plt.plot(gh_DATE, gh_mGh, color = 'red')\n",
    "plt.xlabel('Date (5.14.18 - 8.1.18)')\n",
    "plt.ylabel('Average Gage Height (ft)')\n",
    "plt.title('Average Gage Height (ft) vs. Date')\n",
    "axis = plt.xticks(gh_DATE, gh_DATE, rotation=60)\n"
   ]
  },
  {
   "cell_type": "code",
   "execution_count": null,
   "metadata": {},
   "outputs": [],
   "source": [
    "plt.show()"
   ]
  },
  {
   "cell_type": "code",
   "execution_count": null,
   "metadata": {},
   "outputs": [],
   "source": [
    "#precip as function of avgDC ******REVIEW********\n",
    "import numpy as np\n",
    "\n",
    "plt.figure(figsize=(20,10))\n",
    "plt.xlabel('Precipitation (in)')\n",
    "plt.ylabel('Average Discharge (ft/sec)')\n",
    "x = list(precip_list)\n",
    "y = list(avg_dC_list)\n",
    "fit = np.polyfit(x,y,1)\n",
    "fit_fn = np.poly1d(fit)\n",
    "plt.title('Average Discharge (ft/sec) vs. Precipitation (in)')\n",
    "plt.plot(x, y, 'yo', x, fit_fn(x), '--k', color = 'orange')\n",
    "plt.show()"
   ]
  },
  {
   "cell_type": "code",
   "execution_count": null,
   "metadata": {},
   "outputs": [],
   "source": [
    "#gH as function dcG (need to add avg dcG from NOAA1)\n",
    "# print(gH_cleaned)\n",
    "# print(NOAA1)\n",
    "\n",
    "NOAA_gh_Same_date = pd.merge(NOAA, gH_cleaned, on = 'Date')\n",
    "# print(NOAA_gh_Same_date)"
   ]
  },
  {
   "cell_type": "code",
   "execution_count": null,
   "metadata": {},
   "outputs": [],
   "source": [
    "#Precip vs mgH\n",
    "import numpy as np\n",
    "NOAA_gh_Same_date = NOAA_gh_Same_date.dropna()\n",
    "x = NOAA_gh_Same_date['Precip (in)']\n",
    "y = NOAA_gh_Same_date['mgH']\n",
    "fit = np.polyfit(x,y,1)\n",
    "fit_fn = np.poly1d(fit)\n",
    "plt.figure(figsize = (20, 10))\n",
    "plt.xlabel('Precipitation (in)')\n",
    "plt.ylabel('Average Gage Height (ft)')\n",
    "plt.title('Average Gage Height (ft) vs. Precipitation (in)')\n",
    "plt.plot(x, y,'yo', x, fit_fn(x), '--k', color = 'orange')\n",
    "plt.show()"
   ]
  },
  {
   "cell_type": "code",
   "execution_count": null,
   "metadata": {},
   "outputs": [],
   "source": [
    "NOAA_gh_Same_date['Season'] = 0\n",
    "for idx, row in NOAA_gh_Same_date.iterrows():\n",
    "    a = NOAA_gh_Same_date.loc[idx, 'Date'].split('/')\n",
    "    if a[0] == '3' or a[0] == '4' or a[0] == '5':\n",
    "        NOAA_gh_Same_date.loc[idx, 'Season'] = 'Spring'\n",
    "    elif a[0] == '6' or a[0] == '7' or a[0] == '8':\n",
    "        NOAA_gh_Same_date.loc[idx, 'Season'] = 'Summer'\n",
    "    elif a[0] == '9' or a[0] == '10' or a[0] == '11':\n",
    "        NOAA_gh_Same_date.loc[idx, 'Season'] = 'Fall'\n",
    "    else:\n",
    "        NOAA_gh_Same_date.loc[idx, 'Season'] = 'Winter'"
   ]
  },
  {
   "cell_type": "code",
   "execution_count": null,
   "metadata": {},
   "outputs": [],
   "source": [
    "#Spring season vs gH\n",
    "spring_gH = NOAA_gh_Same_date[NOAA_gh_Same_date.Season == 'Spring']\n",
    "plt.figure(figsize=(20,10))\n",
    "plt.plot(spring_gH['Date'], spring_gH['mgH'], color = 'yellow')\n",
    "plt.xlabel('Part of Spring 2018 (5.14.18 - 5.31.18)')\n",
    "plt.ylabel('Average Gage Height (ft)')\n",
    "plt.title('Average Gage Height (ft) vs. Part of Spring 2018 (5.14.18 - 5.31.18)')\n",
    "x = plt.xticks(spring_gH['Date'], spring_gH['Date'], rotation = 60)"
   ]
  },
  {
   "cell_type": "code",
   "execution_count": null,
   "metadata": {},
   "outputs": [],
   "source": [
    "plt.show()"
   ]
  },
  {
   "cell_type": "code",
   "execution_count": null,
   "metadata": {},
   "outputs": [],
   "source": [
    "#Summer season vs gH\n",
    "summer_gH = NOAA_gh_Same_date[NOAA_gh_Same_date.Season == 'Summer']\n",
    "plt.figure(figsize=(20,10))\n",
    "plt.plot(summer_gH['Date'], summer_gH['mgH'], color = 'yellow')\n",
    "plt.xlabel('Part of Summer 2018 (6.1.18 - 7.31.18)')\n",
    "plt.ylabel('Average Gage Height (ft)')\n",
    "plt.title('Average Gage Height (ft) vs. Part of Summer 2018 (6.1.18 - 7.31.18)')\n",
    "axis = plt.xticks(summer_gH['Date'], summer_gH['Date'], rotation=60)"
   ]
  },
  {
   "cell_type": "code",
   "execution_count": null,
   "metadata": {},
   "outputs": [],
   "source": [
    "plt.show()"
   ]
  },
  {
   "cell_type": "code",
   "execution_count": null,
   "metadata": {},
   "outputs": [],
   "source": [
    "NOAA = NOAA.dropna()\n",
    "\n",
    "NOAA['Season'] = 0\n",
    "for idx, row in NOAA.iterrows():\n",
    "    a = NOAA.loc[idx, 'Date'].split('/')\n",
    "    if a[0] == '3' or a[0] == '4' or a[0] == '5':\n",
    "        NOAA.loc[idx, 'Season'] = 'Spring'\n",
    "    elif a[0] == '6' or a[0] == '7' or a[0] == '8':\n",
    "        NOAA.loc[idx, 'Season'] = 'Summer'\n",
    "    elif a[0] == '9' or a[0] == '10' or a[0] == '11':\n",
    "        NOAA.loc[idx, 'Season'] = 'Fall'\n",
    "    else:\n",
    "        NOAA.loc[idx, 'Season'] = 'Winter'\n",
    "\n",
    "# print(NOAA)"
   ]
  },
  {
   "cell_type": "code",
   "execution_count": null,
   "metadata": {},
   "outputs": [],
   "source": [
    "NOAA_spring = NOAA[NOAA.Season == 'Spring']\n",
    "NOAA_summer = NOAA[NOAA.Season == 'Summer']\n",
    "NOAA_fall = NOAA[NOAA.Season == 'Fall']\n",
    "NOAA_winter = NOAA[NOAA.Season == 'Winter']"
   ]
  },
  {
   "cell_type": "code",
   "execution_count": null,
   "metadata": {},
   "outputs": [],
   "source": [
    "#Spring season vs precip\n",
    "plt.figure(figsize=(25,10))\n",
    "plt.plot(NOAA_spring['Date'], NOAA_spring['Precip (in)'], color = 'green')\n",
    "plt.xlabel('Spring 2018 (3.1.18 - 5.31.18)')\n",
    "plt.ylabel('Precipitation (in)')\n",
    "plt.title('Precipitation (in) vs. Spring 2018')\n",
    "axis = plt.xticks(NOAA_spring['Date'], NOAA_spring['Date'], rotation = 60)"
   ]
  },
  {
   "cell_type": "code",
   "execution_count": null,
   "metadata": {},
   "outputs": [],
   "source": [
    "plt.show()"
   ]
  },
  {
   "cell_type": "code",
   "execution_count": null,
   "metadata": {},
   "outputs": [],
   "source": [
    "#Summer season vs precip\n",
    "plt.figure(figsize=(25,10))\n",
    "plt.plot(NOAA_summer['Date'], NOAA_summer['Precip (in)'], color = 'green')\n",
    "plt.xlabel('Summer 2018 (6.1.18 - 7.31.18)')\n",
    "plt.ylabel('Precipitation (in)')\n",
    "plt.title('Precipitation (in) vs. Summer 2018')\n",
    "axis = plt.xticks(NOAA_summer['Date'], NOAA_summer['Date'], rotation = 60)"
   ]
  },
  {
   "cell_type": "code",
   "execution_count": null,
   "metadata": {},
   "outputs": [],
   "source": [
    "plt.show()"
   ]
  },
  {
   "cell_type": "code",
   "execution_count": null,
   "metadata": {},
   "outputs": [],
   "source": [
    "#Fall season vs precip\n",
    "plt.figure(figsize=(20,10))\n",
    "plt.plot(NOAA_fall['Date'], NOAA_fall['Precip (in)'], color = 'green')\n",
    "plt.xlabel('Fall 2018 (9.1.18 - 11.30.18)')\n",
    "plt.ylabel('Precipitation (in)')\n",
    "plt.title('Precipitation (in) vs. Fall 2017')\n",
    "axis = plt.xticks(NOAA_fall['Date'], NOAA_fall['Date'], rotation = 60)"
   ]
  },
  {
   "cell_type": "code",
   "execution_count": null,
   "metadata": {},
   "outputs": [],
   "source": [
    "plt.show()"
   ]
  },
  {
   "cell_type": "code",
   "execution_count": null,
   "metadata": {},
   "outputs": [],
   "source": [
    "#Winter season vs Precip\n",
    "plt.figure(figsize=(20,10))\n",
    "plt.plot(NOAA_winter['Date'], NOAA_winter['Precip (in)'], color = 'green')\n",
    "plt.xlabel('Winter 2017-18 (12.1.18 - 2.28.18)')\n",
    "plt.ylabel('Precipitation (in)')\n",
    "plt.title('Precipitation (in) vs. Winter 2017-18')\n",
    "axis = plt.xticks(NOAA_winter['Date'], NOAA_winter['Date'], rotation = 60)"
   ]
  },
  {
   "cell_type": "code",
   "execution_count": null,
   "metadata": {},
   "outputs": [],
   "source": [
    "plt.show()"
   ]
  },
  {
   "cell_type": "code",
   "execution_count": null,
   "metadata": {},
   "outputs": [],
   "source": [
    "#Spring season vs dC\n",
    "plt.figure(figsize=(20,10))\n",
    "plt.plot(NOAA_spring['Date'], NOAA_spring['avg dC(ft/sec)'], color = 'blue')\n",
    "plt.xlabel('Spring 2018 (3.1.18 - 5.31.18)')\n",
    "plt.ylabel('Average Discharge (ft/sec)')\n",
    "plt.title('Average Discharge (ft/sec) vs. Spring 2018')\n",
    "axis = plt.xticks(NOAA_spring['Date'], NOAA_spring['Date'], rotation = 60)"
   ]
  },
  {
   "cell_type": "code",
   "execution_count": null,
   "metadata": {},
   "outputs": [],
   "source": [
    "plt.show()"
   ]
  },
  {
   "cell_type": "code",
   "execution_count": null,
   "metadata": {},
   "outputs": [],
   "source": [
    "#Summer season vs dC\n",
    "plt.figure(figsize=(20,10))\n",
    "plt.plot(NOAA_summer['Date'], NOAA_summer['avg dC(ft/sec)'], color = 'blue')\n",
    "plt.xlabel('Summer 2018 (6.1.18 - 7.30.18)')\n",
    "plt.ylabel('Average Discharge (ft/sec)')\n",
    "plt.title('Average Discharge (ft/sec) vs. Summer 2018')\n",
    "axis = plt.xticks(NOAA_summer['Date'], NOAA_summer['Date'], rotation = 60)"
   ]
  },
  {
   "cell_type": "code",
   "execution_count": null,
   "metadata": {},
   "outputs": [],
   "source": [
    "plt.show()"
   ]
  },
  {
   "cell_type": "code",
   "execution_count": null,
   "metadata": {},
   "outputs": [],
   "source": [
    "#Fall season vs dC\n",
    "plt.figure(figsize=(20,10))\n",
    "plt.plot(NOAA_fall['Date'], NOAA_fall['avg dC(ft/sec)'], color = 'blue')\n",
    "plt.xlabel('Fall 2018 (9.1.17 - 11.30.17)')\n",
    "plt.ylabel('Average Discharge (ft/sec)')\n",
    "plt.title('Average Discharge (ft/sec) vs. Fall 2017')\n",
    "axis = plt.xticks(NOAA_fall['Date'], NOAA_fall['Date'], rotation = 60)"
   ]
  },
  {
   "cell_type": "code",
   "execution_count": null,
   "metadata": {},
   "outputs": [],
   "source": [
    "plt.show()"
   ]
  },
  {
   "cell_type": "code",
   "execution_count": null,
   "metadata": {},
   "outputs": [],
   "source": [
    "#Winter season vs dC\n",
    "plt.figure(figsize=(20,10))\n",
    "plt.plot(NOAA_winter['Date'], NOAA_winter['avg dC(ft/sec)'], color ='blue')\n",
    "plt.xlabel('Winter 2017-18 (12.1.17 - 2.30.18)')\n",
    "plt.ylabel('Average Discharge (ft/sec)')\n",
    "plt.title('Average Discharge (ft/sec) vs. Winter 2017-18')\n",
    "axis = plt.xticks(NOAA_winter['Date'], NOAA_winter['Date'], rotation = 60)"
   ]
  },
  {
   "cell_type": "code",
   "execution_count": null,
   "metadata": {},
   "outputs": [],
   "source": [
    "plt.show()"
   ]
  },
  {
   "cell_type": "markdown",
   "metadata": {},
   "source": [
    "# Requirements:\n",
    "\n",
    "### 1) - Appropriate reading of data files\n",
    "\n",
    "### 2) - Appropriate use of data structures to store info\n",
    "\n",
    "### 3) - Appropriate operations to manipulate data to uncover data story\n",
    "\n",
    "### 4) - Using appropriate python procedures to perform data manipulations efficently\n",
    "\n",
    "### 5) - Attention to missing data values\n",
    "\n",
    "### 6) - Adhereance to Tidy Data format\n",
    "\n",
    "### 7) Demonstrating good python programming skills\n",
    "\n",
    "### 8) - Creation of of quality visual products to illustrate the data "
   ]
  },
  {
   "cell_type": "markdown",
   "metadata": {},
   "source": [
    "# Background Research:\n",
    "### 1) - Where is Raccoon Creek? \n",
    "\n",
    "### 2) - What is Raccoon Creek watershed?\n",
    "\n",
    "### 3) - What is the nature of the creek (size, length, depth, etc.)\n",
    "\n",
    "### 4) - Where are the sensors that record the data \n",
    "\n",
    "### 5) - Who own and maintains these sensors \n",
    "\n",
    "### 6) - Where is the data publicly available?\n",
    "\n",
    "### 7) - What are the measurements that are being provided in the data story? \n",
    "\n",
    "### 8) - How can you explain or relate these measurements to non-technical (non geoscience) people?\n",
    "\n",
    "### 9) - How will you set the background in your notebook story? \n",
    "\n",
    "### 10) - What grpahics might  you include in your story?"
   ]
  },
  {
   "cell_type": "markdown",
   "metadata": {},
   "source": [
    "# Writing Quality:\n",
    "### 1) - What is your thesis? (won't know until complete investigation)\n",
    "\n",
    "### 2) - What single compelling discovery drives the data story?\n",
    "\n",
    "### 3) - How will you communicate your thesis in the notebook format?\n",
    "\n",
    "### 4) - Who is your audience?\n",
    "\n",
    "### 5) - Who will read this?\n",
    "\n",
    "### 6) - What diversity can you expect in their backgrounds and levels of expertise? (These ppl will not know anything about the assignment)\n",
    "\n",
    "### 7) - What structure will you use to tell your data story using the notebook format to present this story?\n",
    "\n",
    "### 8) - Style - transition smoothly\n",
    "\n",
    "### 9) - Writing center "
   ]
  }
 ],
 "metadata": {
  "kernelspec": {
   "display_name": "Python 3",
   "language": "python",
   "name": "python3"
  },
  "language_info": {
   "codemirror_mode": {
    "name": "ipython",
    "version": 3
   },
   "file_extension": ".py",
   "mimetype": "text/x-python",
   "name": "python",
   "nbconvert_exporter": "python",
   "pygments_lexer": "ipython3",
   "version": "3.6.5"
  }
 },
 "nbformat": 4,
 "nbformat_minor": 2
}
